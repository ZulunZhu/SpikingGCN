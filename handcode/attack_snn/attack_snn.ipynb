{
 "cells": [
  {
   "cell_type": "code",
   "execution_count": 1,
   "metadata": {},
   "outputs": [
    {
     "name": "stdout",
     "output_type": "stream",
     "text": [
      "loaded\n",
      "Training...\n",
      "100/100 [====================] - Total: 1.11s - 11ms/step - loss: 0.167 - accuracy: 0.979 - val_loss: 0.785 - val_accuracy: 0.752\n",
      "Testing...\n",
      "1/1 [====================] - Total: 54.90ms - 54ms/step - loss: 0.777 - accuracy: 0.805\n",
      "Training...\n",
      "100/100 [====================] - Total: 903.03ms - 9ms/step - loss: 0.179 - accuracy: 0.993 - val_loss: 0.853 - val_accuracy: 0.752\n",
      "Testing...\n",
      "1/1 [====================] - Total: 54.07ms - 54ms/step - loss: 0.801 - accuracy: 0.762\n"
     ]
    }
   ],
   "source": [
    "import sys \n",
    "sys.path.append(\"..\") \n",
    "import graphgallery as gg\n",
    "from graphgallery import functional as gf\n",
    "from graphgallery.datasets import Planetoid, NPZDataset\n",
    "import datareader, sharedutils\n",
    "import torch\n",
    "import numpy as np\n",
    "import pandas as pd\n",
    "from sklearn.model_selection import train_test_split\n",
    "from torch.utils import data as Data\n",
    "from model_lif_fc_with_val import model_lif_fc\n",
    "print('loaded')\n",
    "\n",
    "data = Planetoid('cora', root=\"~/datasets/datafromgg\", verbose=False)\n",
    "\n",
    "graph = data.graph\n",
    "splits = data.split_nodes(random_state=15)\n",
    "\n",
    "################### Attacker model ############################\n",
    "attacker = gg.attack.untargeted.NodeEmbeddingAttack(graph, seed=42).process()\n",
    "attacker.attack(1000, K=None)\n",
    "\n",
    "################### Victim model ############################\n",
    "# Before attack\n",
    "trainer = gg.gallery.nodeclas.GCN(seed=123).make_data(graph).build()\n",
    "his = trainer.fit(splits.train_nodes,\n",
    "                  splits.val_nodes,\n",
    "                  verbose=1,\n",
    "                  epochs=100)\n",
    "original_result = trainer.evaluate(splits.test_nodes)\n",
    "\n",
    "# After attack\n",
    "trainer = gg.gallery.nodeclas.GCN(seed=123).make_data(attacker.g).build()\n",
    "his = trainer.fit(splits.train_nodes,\n",
    "                  splits.val_nodes,\n",
    "                  verbose=1,\n",
    "                  epochs=100)\n",
    "perturbed_result = trainer.evaluate(splits.test_nodes)"
   ]
  },
  {
   "cell_type": "code",
   "execution_count": 2,
   "metadata": {},
   "outputs": [
    {
     "name": "stdout",
     "output_type": "stream",
     "text": [
      "cnf: 64\n",
      "train, valiadation,test's len: 3 8 16\n",
      "data: cora, num_node_classes: 7\n",
      "{'device': 'cuda:1', 'dataset_dir': 'graphfromgg', 'test_size': 0.2, 'batch_size': 64, 'learning_rate': 0.02, 'T': 300, 'tau': 50, 'v_reset': None, 'v_threshold': 0.2, 'train_epoch': 200, 'ggp_embedding': False, 'num_per_class': 20, 'log_dir': '/home/zlzhu/snn/bsgcn/handcode/tmpdir/snn'}\n",
      "testset'acc: device=cuda:1, dataset=cora, batch_size=64, learning_rate=0.02, T=300, max_test_accuracy=0.7630, sops_per_nodes:  4186.0000, num_s1: 5142, num_s2: 212, num_s_per_node: 5354y=0.7360, train_times=600\n",
      "original prediction 80.50%\n",
      "perturbed prediction 76.20%\n",
      "The accuracy has gone down 4.30%\n",
      "original prediction 76.30%\n"
     ]
    }
   ],
   "source": [
    "# #Using spiking\n",
    "dataname = \"cora\"\n",
    "conf, cnf = sharedutils.read_config(), {}\n",
    "rd = datareader.ReadData(\"~/datasets/datafromgg\")\n",
    "\n",
    "# # get fixed split\n",
    "\n",
    "mat, tag = rd.attacked_conv_graph(attacker.g)\n",
    "# mat, tag = rd.conv_graph(data_fixed)\n",
    "tr_ind, val_ind, ts_ind = data.split_nodes().train_nodes, data.split_nodes().val_nodes, data.split_nodes().test_nodes\n",
    "tr_mat = mat[tr_ind]\n",
    "val_mat = mat[val_ind]\n",
    "ts_mat = mat[ts_ind]\n",
    "tr_tag = tag[tr_ind]\n",
    "val_tag = tag[val_ind]\n",
    "ts_tag = tag[ts_ind]\n",
    "\n",
    "\n",
    "#get random split\n",
    "# data = rd.read_raw_data(dataname)\n",
    "# mat, tag = rd.conv_graph(data)\n",
    "# tr_val_mat, ts_mat, tr_val_tag, ts_tag = rd.get_random_splited_data(mat, tag, 0.2)\n",
    "k = pd.DataFrame(mat)\n",
    "u = k.describe()\n",
    "# print(\"tr_mat.shape()\",u)\n",
    "\n",
    "cnf.update(conf['shared_conf'])\n",
    "cnf.update(conf['snn'][dataname])\n",
    "# may be some new params\n",
    "print(\"cnf:\",cnf[\"batch_size\"])\n",
    "cnf['log_dir'] = conf['snn']['log_dir']\n",
    "if cnf['v_reset'] == -100: cnf['v_reset'] = None\n",
    "train_data_loader, val_data_loader, test_data_loader = rd.tr_ts_val_numpy2dataloader(tr_mat, ts_mat, val_mat, tr_tag, ts_tag, val_tag,batch_size=cnf[\"batch_size\"] )\n",
    "print(\"train, valiadation,test's len:\", len(train_data_loader), len(val_data_loader), len(test_data_loader))\n",
    "n_nodes, n_feat, n_flat = mat.shape[0], mat.shape[1], 1\n",
    "print(\"data: %s, num_node_classes: %d\" % (dataname, data.graph.num_classes))\n",
    "print(cnf)\n",
    "ret = model_lif_fc(device=cnf[\"device\"], dataset_dir=cnf[\"dataset_dir\"],\n",
    "                 dataname=dataname, batch_size=cnf[\"batch_size\"], \n",
    "                 learning_rate=cnf[\"learning_rate\"], T=cnf[\"T\"], tau=cnf[\"tau\"], \n",
    "                 v_reset=cnf[\"v_reset\"], v_threshold=cnf[\"v_threshold\"],\n",
    "                 train_epoch=cnf[\"train_epoch\"], log_dir=cnf[\"log_dir\"], n_labels=data.graph.num_classes,\n",
    "                 n_dim0=n_nodes, n_dim1=n_flat, n_dim2=n_feat, train_data_loader=train_data_loader,\n",
    "                 val_data_loader=val_data_loader, test_data_loader=test_data_loader)\n",
    "\n",
    "################### Results ############################\n",
    "print(f\"original prediction {original_result.accuracy:.2%}\")\n",
    "print(f\"perturbed prediction {perturbed_result.accuracy:.2%}\")\n",
    "print(\n",
    "    f\"The accuracy has gone down {original_result.accuracy-perturbed_result.accuracy:.2%}\"\n",
    ")\n",
    "\n",
    "print(f\"original prediction {ret:.2%}\")\n",
    "\n"
   ]
  },
  {
   "cell_type": "code",
   "execution_count": null,
   "metadata": {},
   "outputs": [],
   "source": []
  }
 ],
 "metadata": {
  "kernelspec": {
   "display_name": "Python 3",
   "language": "python",
   "name": "python3"
  },
  "language_info": {
   "codemirror_mode": {
    "name": "ipython",
    "version": 3
   },
   "file_extension": ".py",
   "mimetype": "text/x-python",
   "name": "python",
   "nbconvert_exporter": "python",
   "pygments_lexer": "ipython3",
   "version": "3.8.3"
  }
 },
 "nbformat": 4,
 "nbformat_minor": 4
}
