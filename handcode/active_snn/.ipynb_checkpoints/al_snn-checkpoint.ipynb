{
 "cells": [
  {
   "cell_type": "code",
   "execution_count": 3,
   "metadata": {},
   "outputs": [],
   "source": [
    "import datareader, sharedutils, os\n",
    "import torch\n",
    "import numpy as np\n",
    "import pandas as pd\n",
    "from sklearn.model_selection import train_test_split\n",
    "from torch.utils import data as Data\n",
    "from model_lif_fc_no_val import model_lif_fc\n",
    "dataname = 'cora'\n",
    "conf, cnf = sharedutils.read_config(), {}\n",
    "cnf.update(conf['shared_conf'])\n",
    "cnf.update(conf['snn_al'][dataname])\n",
    "\n",
    "rd = datareader.ReadData(\"~/datasets/datafromgg\")\n",
    "# get fixed dataset，fixed split\n",
    "data_fixed = rd.get_fixed_splited_data(dataname)\n",
    "data = data_fixed\n",
    "mat, adj_mat, features, all_x, tag = rd.conv_subgraph(data_fixed)"
   ]
  },
  {
   "cell_type": "code",
   "execution_count": 4,
   "metadata": {},
   "outputs": [],
   "source": [
    "#initial the active learning\n",
    "random_seed = cnf['random_seed']\n",
    "res_list = [{'vid':random_seed-1, 'test_acc':np.NaN}]\n",
    "n_sample_acquired = 1\n",
    "n_sample_budget = 50\n",
    "tr_mask = np.array([False]*features.shape[0])\n",
    "tr_mask[random_seed-1] = True\n",
    "#Get the laplacian of graph \n",
    "laplacian = np.diag(np.sum(adj_mat, 1)) - adj_mat\n",
    "predCovCQ = np.zeros((len(laplacian), len(laplacian)))"
   ]
  },
  {
   "cell_type": "code",
   "execution_count": 5,
   "metadata": {},
   "outputs": [
    {
     "name": "stdout",
     "output_type": "stream",
     "text": [
      "tr_mat.shape()               0            1            2            3            4     \\\n",
      "count  2485.000000  2485.000000  2485.000000  2485.000000  2485.000000   \n",
      "mean      0.005695     0.011536     0.024656     0.023344     0.059687   \n",
      "std       0.024404     0.036480     0.061215     0.055835     0.146203   \n",
      "min       0.000000     0.000000     0.000000     0.000000     0.000000   \n",
      "25%       0.000000     0.000000     0.000000     0.000000     0.000000   \n",
      "50%       0.000000     0.000000     0.000000     0.000000     0.000000   \n",
      "75%       0.000000     0.005208     0.016628     0.019213     0.028257   \n",
      "max       0.416667     0.375000     0.570174     0.609117     1.062590   \n",
      "\n",
      "              5            6            7            8            9     ...  \\\n",
      "count  2485.000000  2485.000000  2485.000000  2485.000000  2485.000000  ...   \n",
      "mean      0.002505     0.010643     0.003409     0.010836     0.002243  ...   \n",
      "std       0.019128     0.037827     0.018513     0.040068     0.019020  ...   \n",
      "min       0.000000     0.000000     0.000000     0.000000     0.000000  ...   \n",
      "25%       0.000000     0.000000     0.000000     0.000000     0.000000  ...   \n",
      "50%       0.000000     0.000000     0.000000     0.000000     0.000000  ...   \n",
      "75%       0.000000     0.000000     0.000000     0.001218     0.000000  ...   \n",
      "max       0.406667     0.515409     0.375000     0.571359     0.348146  ...   \n",
      "\n",
      "              1423         1424         1425         1426         1427  \\\n",
      "count  2485.000000  2485.000000  2485.000000  2485.000000  2485.000000   \n",
      "mean      0.035664     0.025201     0.015962     0.037532     0.009290   \n",
      "std       0.072385     0.070271     0.046588     0.065148     0.030506   \n",
      "min       0.000000     0.000000     0.000000     0.000000     0.000000   \n",
      "25%       0.000000     0.000000     0.000000     0.000000     0.000000   \n",
      "50%       0.003912     0.000000     0.000000     0.010758     0.000000   \n",
      "75%       0.035535     0.014731     0.008248     0.045722     0.003410   \n",
      "max       0.640165     0.756873     0.428300     0.571359     0.373438   \n",
      "\n",
      "              1428         1429         1430         1431         1432  \n",
      "count  2485.000000  2485.000000  2485.000000  2485.000000  2485.000000  \n",
      "mean      0.001105     0.011449     0.002295     0.021271     0.004813  \n",
      "std       0.014515     0.042222     0.015047     0.055492     0.031174  \n",
      "min       0.000000     0.000000     0.000000     0.000000     0.000000  \n",
      "25%       0.000000     0.000000     0.000000     0.000000     0.000000  \n",
      "50%       0.000000     0.000000     0.000000     0.000000     0.000000  \n",
      "75%       0.000000     0.002830     0.000000     0.014028     0.000000  \n",
      "max       0.525783     0.555555     0.287101     0.512843     0.508851  \n",
      "\n",
      "[8 rows x 1433 columns]\n"
     ]
    },
    {
     "ename": "AttributeError",
     "evalue": "'ReadData' object has no attribute 'al_numpy2dataloader'",
     "output_type": "error",
     "traceback": [
      "\u001b[0;31m---------------------------------------------------------------------------\u001b[0m",
      "\u001b[0;31mAttributeError\u001b[0m                            Traceback (most recent call last)",
      "\u001b[0;32m<ipython-input-5-fb421bf9e441>\u001b[0m in \u001b[0;36m<module>\u001b[0;34m\u001b[0m\n\u001b[1;32m     15\u001b[0m     \u001b[0mcnf\u001b[0m\u001b[0;34m[\u001b[0m\u001b[0;34m'log_dir'\u001b[0m\u001b[0;34m]\u001b[0m \u001b[0;34m=\u001b[0m \u001b[0mconf\u001b[0m\u001b[0;34m[\u001b[0m\u001b[0;34m'snn'\u001b[0m\u001b[0;34m]\u001b[0m\u001b[0;34m[\u001b[0m\u001b[0;34m'log_dir'\u001b[0m\u001b[0;34m]\u001b[0m\u001b[0;34m\u001b[0m\u001b[0;34m\u001b[0m\u001b[0m\n\u001b[1;32m     16\u001b[0m     \u001b[0;32mif\u001b[0m \u001b[0mcnf\u001b[0m\u001b[0;34m[\u001b[0m\u001b[0;34m'v_reset'\u001b[0m\u001b[0;34m]\u001b[0m \u001b[0;34m==\u001b[0m \u001b[0;34m-\u001b[0m\u001b[0;36m100\u001b[0m\u001b[0;34m:\u001b[0m \u001b[0mcnf\u001b[0m\u001b[0;34m[\u001b[0m\u001b[0;34m'v_reset'\u001b[0m\u001b[0;34m]\u001b[0m \u001b[0;34m=\u001b[0m \u001b[0;32mNone\u001b[0m\u001b[0;34m\u001b[0m\u001b[0;34m\u001b[0m\u001b[0m\n\u001b[0;32m---> 17\u001b[0;31m     train_data_loader, test_data_loader = rd.al_numpy2dataloader(tr_mat, ts_mat,\n\u001b[0m\u001b[1;32m     18\u001b[0m       tr_tag, ts_tag, batch_size=cnf[\"batch_size\"])\n\u001b[1;32m     19\u001b[0m \u001b[0;34m\u001b[0m\u001b[0m\n",
      "\u001b[0;31mAttributeError\u001b[0m: 'ReadData' object has no attribute 'al_numpy2dataloader'"
     ]
    }
   ],
   "source": [
    "while n_sample_acquired < n_sample_budget:\n",
    "    tr_ind = all_x[tr_mask].flatten()\n",
    "    tr_mat = mat[tr_ind]\n",
    "    ts_ind = all_x[~tr_mask].flatten()\n",
    "    ts_mat = mat[ts_ind]\n",
    "    tr_tag = tag[tr_ind]\n",
    "    ts_tag = tag[ts_ind]\n",
    "\n",
    "    k = pd.DataFrame(mat)\n",
    "    u = k.describe()\n",
    "    print(\"tr_mat.shape()\",u)\n",
    "\n",
    "\n",
    "    # may be some new params\n",
    "    cnf['log_dir'] = conf['snn']['log_dir']\n",
    "    if cnf['v_reset'] == -100: cnf['v_reset'] = None\n",
    "    train_data_loader, test_data_loader = rd.tr_ts_numpy2dataloader(tr_mat, ts_mat,\n",
    "      tr_tag, ts_tag, batch_size=cnf[\"batch_size\"])\n",
    "\n",
    "    print(\"train, valiadation,test's batch num:\", len(train_data_loader), len(test_data_loader))\n",
    "    print(\"train, valiadation,test's shape:\", tr_mat.shape, ts_mat.shape)\n",
    "    n_nodes, n_feat, n_flat = mat.shape[0], mat.shape[1], 1\n",
    "    print(\"data: %s, num_node_classes: %d\" % (dataname, data.graph.num_classes))\n",
    "    print(cnf)\n",
    "    ret = model_lif_fc(device=cnf[\"device\"], dataset_dir=cnf[\"dataset_dir\"],\n",
    "                      dataname=dataname, batch_size=cnf[\"batch_size\"], \n",
    "                      learning_rate=cnf[\"learning_rate\"], T=cnf[\"T\"], tau=cnf[\"tau\"], \n",
    "                      v_reset=cnf[\"v_reset\"], v_threshold=cnf[\"v_threshold\"],\n",
    "                      train_epoch=cnf[\"train_epoch\"], log_dir=cnf[\"log_dir\"], n_labels=data.graph.num_classes,\n",
    "                      n_dim0=n_nodes, n_dim1=n_flat, n_dim2=n_feat, train_data_loader=train_data_loader,\n",
    "                      test_data_loader=test_data_loader)\n",
    "    accuracy = ret\n",
    "    #SOPT\n",
    "    masks = np.reshape(~tr_mask, (-1,1)) & np.reshape(~tr_mask, (1,-1))\n",
    "    predCovCQ[masks] = np.linalg.inv(laplacian[~tr_mask][:,~tr_mask]).flatten()\n",
    "    acq_scores = np.sum(predCovCQ[~tr_mask][:, ~tr_mask], 1)/np.sqrt(np.diag(predCovCQ)[~tr_mask])\n",
    "    to_label = all_x[~tr_mask][np.argmax(acq_scores)]\n",
    "    print(to_label)\n",
    "\n",
    "    #Adding the res_list\n",
    "    if n_sample_acquired == n_sample_budget:\n",
    "        res_list[-1]['test_acc'] = accuracy\n",
    "    else:\n",
    "        res_list.append({'vid':-100, 'test_acc':np.NaN})\n",
    "        res_list[-2]['test_acc'], res_list[-1]['vid'] = accuracy, to_label[0] \n",
    "        assert np.sum(tr_mask) == n_sample_acquired, 'Num. of sample in tr_mask != n_sample_acquired'\n",
    "        assert tr_mask[res_list[-1]['vid']]==False, 'Node {0} alrdy acq.'.format(res_list[-1]['vid'])\n",
    "        tr_mask[res_list[-1]['vid']] = True\n",
    "    n_sample_acquired += 1\n",
    "    print(n_sample_acquired, \" nodes\", \"accuracy:\", accuracy)"
   ]
  },
  {
   "cell_type": "code",
   "execution_count": 4,
   "metadata": {},
   "outputs": [
    {
     "name": "stdout",
     "output_type": "stream",
     "text": [
      "[{'vid': 0, 'test_acc': 0.2918679549114332}, {'vid': 2048, 'test_acc': 0.15465163109142166}, {'vid': 558, 'test_acc': 0.23811442385173248}, {'vid': 1088, 'test_acc': 0.22249093107617895}, {'vid': 927, 'test_acc': 0.3125}, {'vid': 316, 'test_acc': 0.4126663977410246}, {'vid': 1810, 'test_acc': 0.43946731234866826}, {'vid': 608, 'test_acc': 0.44327815906338314}, {'vid': 1785, 'test_acc': 0.41478190630048467}, {'vid': 2186, 'test_acc': 0.39434343434343433}, {'vid': 607, 'test_acc': 0.40040404040404043}, {'vid': 1478, 'test_acc': 0.4183508488278092}, {'vid': 310, 'test_acc': 0.4892842701172665}, {'vid': 236, 'test_acc': 0.46561488673139156}, {'vid': 224, 'test_acc': 0.46863617968433835}, {'vid': 1519, 'test_acc': 0.5145748987854251}, {'vid': 2259, 'test_acc': 0.5143782908059943}, {'vid': 1559, 'test_acc': 0.5162074554294975}, {'vid': 1245, 'test_acc': 0.49371706526145115}, {'vid': 1732, 'test_acc': 0.5332522303325223}, {'vid': 1212, 'test_acc': 0.5574036511156186}, {'vid': 1607, 'test_acc': 0.5482954545454546}, {'vid': 2255, 'test_acc': 0.535931790499391}, {'vid': 2146, 'test_acc': 0.545897644191714}, {'vid': 470, 'test_acc': 0.5424624136529866}, {'vid': 1368, 'test_acc': 0.5394308943089431}, {'vid': 185, 'test_acc': 0.5424969499796666}, {'vid': 2380, 'test_acc': 0.5414971521562246}, {'vid': 2301, 'test_acc': 0.5482295482295483}, {'vid': 1527, 'test_acc': 0.5521172638436482}, {'vid': 2284, 'test_acc': 0.5433808553971486}, {'vid': 2258, 'test_acc': 0.5431947840260799}, {'vid': 130, 'test_acc': 0.5430085609457806}, {'vid': 651, 'test_acc': 0.5399673735725938}, {'vid': 1096, 'test_acc': 0.5650754793961649}, {'vid': 1006, 'test_acc': 0.5653061224489796}, {'vid': 588, 'test_acc': 0.6129032258064516}, {'vid': 2257, 'test_acc': 0.6139705882352942}, {'vid': 2121, 'test_acc': 0.6305680425010216}, {'vid': 1503, 'test_acc': 0.6381847914963206}, {'vid': 405, 'test_acc': 0.6548057259713701}, {'vid': 164, 'test_acc': 0.6513911620294599}, {'vid': 662, 'test_acc': 0.6561604584527221}, {'vid': 567, 'test_acc': 0.6478296478296478}, {'vid': 1052, 'test_acc': 0.588283490372798}, {'vid': 696, 'test_acc': 0.5930327868852459}, {'vid': 1636, 'test_acc': 0.5990159901599016}, {'vid': 2321, 'test_acc': 0.6082854799015587}, {'vid': 2387, 'test_acc': 0.6036109971276159}, {'vid': 1657, 'test_acc': 0.611247947454844}, {'vid': 735, 'test_acc': nan}]\n",
      "nan\n"
     ]
    }
   ],
   "source": [
    "import os, pickle\n",
    "result_fp = os.path.join(os.getenv('PWD'), 'al_result_files')\n",
    "result_fp = os.path.join(result_fp, 'SNN_AL-{0}-rs_{1}.p'.format(\"cora\", 1))\n",
    "i = 0\n",
    "accuracy_sum = 0\n",
    "res_list = pickle.load(open(result_fp, 'rb'))\n",
    "print(res_list)\n",
    "while i < len(res_list):\n",
    "    accuracy_sum += res_list[i]['test_acc']\n",
    "    i+=1\n",
    "area = (accuracy_sum*2-res_list[0]['test_acc']-res_list[-1]['test_acc'])/2\n",
    "curve_rate = area/(49)\n",
    "print(curve_rate)"
   ]
  },
  {
   "cell_type": "code",
   "execution_count": 10,
   "metadata": {},
   "outputs": [
    {
     "name": "stdout",
     "output_type": "stream",
     "text": [
      "50\n",
      "0.15217391304347827 0.1554571083366895 0.17929089443996776 0.24989923417976623 0.25483870967741934\n",
      "0.2734973779749899 0.3506860371267151 0.3835284618490109 0.38893376413570274 0.47393939393939394\n",
      "0.4886822958771221 0.523655479175091 0.531957928802589 0.5107244030756779 0.5210526315789473\n",
      "0.6229242608343459 0.643030794165316 0.6416700445885691 0.7003244120032441 0.6937119675456389\n",
      "0.7191558441558441 0.7178237921234267 0.7144597887896019 0.7139374238114587 0.7162601626016261\n",
      "0.7092313948759659 0.7302685109845403 0.726902726902727 0.7247557003257329 0.734826883910387\n",
      "0.7351263243683781 0.7333876885446392 0.7410277324632952 0.7511219910240718 0.7542857142857143\n",
      "0.7599020008166598 0.7618464052287581 0.76665304454434 0.7673753066230581 0.7656441717791411\n",
      "0.7708674304418985 0.7650429799426934 0.766994266994267 0.7648504711183941 0.7627049180327868\n",
      "0.7589175891758918 0.7612797374897456 0.7603610997127616 0.7664203612479474 0.7589322381930185\n",
      "[0.15217391 0.15545711 0.17929089 0.24989923 0.25483871 0.27349738\n",
      " 0.35068604 0.38352846 0.38893376 0.47393939 0.4886823  0.52365548\n",
      " 0.53195793 0.5107244  0.52105263 0.62292426 0.64303079 0.64167004\n",
      " 0.70032441 0.69371197 0.71915584 0.71782379 0.71445979 0.71393742\n",
      " 0.71626016 0.70923139 0.73026851 0.72690273 0.7247557  0.73482688\n",
      " 0.73512632 0.73338769 0.74102773 0.75112199 0.75428571 0.759902\n",
      " 0.76184641 0.76665304 0.76737531 0.76564417 0.77086743 0.76504298\n",
      " 0.76699427 0.76485047 0.76270492 0.75891759 0.76127974 0.7603611\n",
      " 0.76642036 0.75893224]\n",
      "0.6258120354538815\n"
     ]
    }
   ],
   "source": [
    "import os, pickle\n",
    "import numpy as np\n",
    "result_fp = os.path.join('/home/zlzhu/snn/bsgcn/handcode', 'al_result_files')\n",
    "result_fp = os.path.join(result_fp, 'SNN_AL-{0}-rs_{1}.p'.format(\"cora\", 3))\n",
    "i = 0\n",
    "accuracy_sum = 0\n",
    "res_list = pickle.load(open(result_fp, 'rb'))\n",
    "accuracy = np.zeros(len(res_list))\n",
    "print(len(res_list))\n",
    "while i < len(res_list):\n",
    "    accuracy[i] = res_list[i]['test_acc']\n",
    "    if (i+1)%5==0:\n",
    "        print(accuracy[i])\n",
    "    else: \n",
    "        print(accuracy[i], end=\" \")\n",
    "    accuracy_sum += res_list[i]['test_acc']\n",
    "    i+=1\n",
    "area = (accuracy_sum*2-res_list[0]['test_acc']-res_list[-1]['test_acc'])/2\n",
    "curve_rate = area/(49)\n",
    "print(accuracy)\n",
    "print(curve_rate)\n",
    "#1 random 2 sopt 3 predictive 4 combination"
   ]
  },
  {
   "cell_type": "code",
   "execution_count": null,
   "metadata": {},
   "outputs": [],
   "source": []
  }
 ],
 "metadata": {
  "kernelspec": {
   "display_name": "Python 3",
   "language": "python",
   "name": "python3"
  },
  "language_info": {
   "codemirror_mode": {
    "name": "ipython",
    "version": 3
   },
   "file_extension": ".py",
   "mimetype": "text/x-python",
   "name": "python",
   "nbconvert_exporter": "python",
   "pygments_lexer": "ipython3",
   "version": "3.8.3"
  }
 },
 "nbformat": 4,
 "nbformat_minor": 4
}
