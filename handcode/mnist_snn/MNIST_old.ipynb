{
 "cells": [
  {
   "cell_type": "code",
   "execution_count": null,
   "metadata": {},
   "outputs": [],
   "source": [
    "import torch, sys\n",
    "import torch.nn as nn\n",
    "import torchvision.datasets as dsets\n",
    "import torchvision.transforms as transforms\n",
    "from torch.autograd import Variable\n",
    "import sharedutils, os\n",
    "import numpy as np\n",
    "import pandas as pd\n",
    "from sklearn.model_selection import train_test_split\n",
    "from torch.utils import data as Data\n",
    "from img_model_lif_fc import model_lif_fc\n",
    "import time\n",
    "from tqdm import tqdm\n",
    "\n",
    "# import faulthandler\n",
    "# faulthandler.enable()\n",
    "dataname = 'mnist'\n",
    "conf, cnf = sharedutils.read_config(), {}\n",
    "cnf.update(conf['shared_conf'])\n",
    "cnf.update(conf['snn_img'][dataname])\n",
    "cnf['log_dir'] = conf['snn_img']['log_dir']\n",
    "if cnf['v_reset'] == -100: cnf['v_reset'] = None\n",
    "    \n",
    "train_dataset = dsets.MNIST(root = '~/datasets/mnist', train = True, transform = transforms.ToTensor(), download = True)\n",
    "test_dataset = dsets.MNIST(root = '~/datasets/mnist', train = False, transform = transforms.ToTensor())\n",
    "train_data_loader = torch.utils.data.DataLoader(dataset = train_dataset, batch_size = cnf['batch_size'], shuffle = False)\n",
    "test_data_loader = torch.utils.data.DataLoader(dataset = test_dataset, batch_size = cnf['batch_size'], shuffle = False)\n",
    "print(\"train, valiadation,test's batch num:\", len(train_data_loader), len(test_data_loader))\n",
    "# for img, label in test_data_loader:\n",
    "#     print(img)\n",
    "print(\"loaded\")"
   ]
  },
  {
   "cell_type": "code",
   "execution_count": null,
   "metadata": {},
   "outputs": [],
   "source": [
    "import numpy as np\n",
    "import matplotlib.pyplot as plt\n",
    "from spikingjelly.clock_driven import neuron, encoding, functional,layer\n",
    "encoder = encoding.BiPoissonEncoder()\n",
    "k=25\n",
    "T=1\n",
    "for i, (images, labels) in enumerate(train_data_loader):\n",
    "        print(\"images.shape:\",images[k][0])\n",
    "        for t in range(T):\n",
    "            if t==0: image_encoded = encoder(images[k][0]).float()\n",
    "            else: image_encoded+= encoder(images[k][0]).float()\n",
    "        if i==1:\n",
    "#             print(\"image_encoded:\",image_encoded)\n",
    "#             print(\"image_encoded:\",images[k][0])\n",
    "            image_encoded = image_encoded/T\n",
    "            plt.imshow(image_encoded.numpy())\n",
    "            plt.show()\n",
    "            plt.imshow(images[k][0].numpy())\n",
    "            plt.show()\n",
    "            break\n",
    "#             plt.imshow(images[3][0].numpy())\n",
    "#             plt.show()\n",
    "#             cv.imwrite(\"image\", images[0][0].numpy())"
   ]
  },
  {
   "cell_type": "code",
   "execution_count": null,
   "metadata": {},
   "outputs": [],
   "source": [
    "ret = model_lif_fc(device=cnf[\"device\"], dataset_dir=cnf[\"dataset_dir\"],\n",
    "                      dataname=dataname, batch_size=cnf[\"batch_size\"], \n",
    "                      learning_rate=cnf[\"learning_rate\"], T=cnf[\"T\"], tau=cnf[\"tau\"], \n",
    "                      v_reset=cnf[\"v_reset\"], v_threshold=cnf[\"v_threshold\"],\n",
    "                      train_epoch=cnf[\"train_epoch\"], log_dir=cnf[\"log_dir\"], n_labels=10,\n",
    "                      n_dim0=700, n_dim1=28, n_dim2=28, train_data_loader=train_data_loader,\n",
    "                      test_data_loader=test_data_loader)\n",
    "accuracy = ret"
   ]
  },
  {
   "cell_type": "code",
   "execution_count": null,
   "metadata": {},
   "outputs": [],
   "source": []
  }
 ],
 "metadata": {
  "kernelspec": {
   "display_name": "Python 3",
   "language": "python",
   "name": "python3"
  },
  "language_info": {
   "codemirror_mode": {
    "name": "ipython",
    "version": 3
   },
   "file_extension": ".py",
   "mimetype": "text/x-python",
   "name": "python",
   "nbconvert_exporter": "python",
   "pygments_lexer": "ipython3",
   "version": "3.8.3"
  }
 },
 "nbformat": 4,
 "nbformat_minor": 4
}
