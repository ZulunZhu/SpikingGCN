{
 "cells": [
  {
   "cell_type": "code",
   "execution_count": null,
   "metadata": {},
   "outputs": [],
   "source": [
    "import torch\n",
    "import torch.nn as nn\n",
    "import torchvision.datasets as dsets\n",
    "import torchvision.transforms as transforms\n",
    "from torch.autograd import Variable\n",
    "import datareader, sharedutils, os\n",
    "import torch\n",
    "import numpy as np\n",
    "import pandas as pd\n",
    "from sklearn.model_selection import train_test_split\n",
    "from torch.utils import data as Data\n",
    "from img_model_lif_fc import model_lif_fc\n",
    "import time\n",
    "from tqdm import tqdm\n",
    "\n",
    "dataname = 'mnist'\n",
    "conf, cnf = sharedutils.read_config(), {}\n",
    "cnf.update(conf['shared_conf'])\n",
    "cnf.update(conf['snn_img'][dataname])\n",
    "cnf['log_dir'] = conf['snn_img']['log_dir']\n",
    "if cnf['v_reset'] == -100: cnf['v_reset'] = None\n",
    "\n",
    "training_x = torch.load('/home/zlzhu/datasets/mnist/SplineCNN_MNISTsuperpixel/training_x.pt')    \n",
    "testing_x = torch.load('/home/zlzhu/datasets/mnist/SplineCNN_MNISTsuperpixel/testing_x.pt')\n",
    "training_y = torch.load('/home/zlzhu/datasets/mnist/SplineCNN_MNISTsuperpixel/training_y.pt')\n",
    "testing_y = torch.load('/home/zlzhu/datasets/mnist/SplineCNN_MNISTsuperpixel/testing_y.pt')\n",
    "\n",
    "tr_mat =  torch.stack(training_x, dim=0).reshape([60000,64]).numpy()\n",
    "ts_mat =  torch.stack(testing_x, dim=0).reshape([10000,64]).numpy()\n",
    "tr_tag =  torch.stack(training_y, dim=0).reshape([60000,]).numpy()\n",
    "ts_tag =  torch.stack(testing_y, dim=0).reshape([10000,]).numpy()\n",
    "print(tr_mat.shape)\n",
    "print(tr_mat<0)\n",
    "rd = datareader.ReadData(\"~/datasets/datafromgg\")\n",
    "train_data_loader, test_data_loader = rd.general_numpy2dataloader(tr_mat, ts_mat, tr_tag, ts_tag, batch_size=cnf[\"batch_size\"])\n",
    "\n",
    "# train_dataset = dsets.MNIST(root = '~/datasets/mnist', train = True, transform = transforms.ToTensor(), download = True)\n",
    "# test_dataset = dsets.MNIST(root = '~/datasets/mnist', train = False, transform = transforms.ToTensor())\n",
    "# train_data_loader = torch.utils.data.DataLoader(dataset = train_dataset, batch_size = cnf['batch_size'], shuffle = True)\n",
    "# test_data_loader = torch.utils.data.DataLoader(dataset = test_dataset, batch_size = cnf['batch_size'], shuffle = False)\n",
    "# print(\"train, valiadation,test's batch num:\", len(train_data_loader), len(test_data_loader))\n",
    "# print('train_dataset:',train_dataset)\n",
    "# for img, label in test_data_loader:\n",
    "#     print(img)\n",
    "print('loaded')\n"
   ]
  },
  {
   "cell_type": "code",
   "execution_count": null,
   "metadata": {},
   "outputs": [],
   "source": [
    "ret = model_lif_fc(device=cnf[\"device\"], dataset_dir=cnf[\"dataset_dir\"],\n",
    "                      dataname=dataname, batch_size=cnf[\"batch_size\"], \n",
    "                      learning_rate=cnf[\"learning_rate\"], T=cnf[\"T\"], tau=cnf[\"tau\"], \n",
    "                      v_reset=cnf[\"v_reset\"], v_threshold=cnf[\"v_threshold\"],\n",
    "                      train_epoch=cnf[\"train_epoch\"], log_dir=cnf[\"log_dir\"], n_labels=10,\n",
    "                      n_dim0=700, n_dim1=8, n_dim2=8, train_data_loader=train_data_loader,\n",
    "                      test_data_loader=test_data_loader)\n",
    "accuracy = ret"
   ]
  },
  {
   "cell_type": "code",
   "execution_count": null,
   "metadata": {},
   "outputs": [],
   "source": []
  },
  {
   "cell_type": "code",
   "execution_count": null,
   "metadata": {},
   "outputs": [],
   "source": []
  },
  {
   "cell_type": "code",
   "execution_count": null,
   "metadata": {},
   "outputs": [],
   "source": []
  },
  {
   "cell_type": "code",
   "execution_count": null,
   "metadata": {},
   "outputs": [],
   "source": []
  }
 ],
 "metadata": {
  "kernelspec": {
   "display_name": "Python 3",
   "language": "python",
   "name": "python3"
  },
  "language_info": {
   "codemirror_mode": {
    "name": "ipython",
    "version": 3
   },
   "file_extension": ".py",
   "mimetype": "text/x-python",
   "name": "python",
   "nbconvert_exporter": "python",
   "pygments_lexer": "ipython3",
   "version": "3.8.3"
  }
 },
 "nbformat": 4,
 "nbformat_minor": 4
}
